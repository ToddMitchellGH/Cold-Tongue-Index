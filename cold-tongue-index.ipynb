{
 "cells": [
  {
   "cell_type": "code",
   "execution_count": 1,
   "metadata": {},
   "outputs": [],
   "source": [
    "# Ingest the Cold Tongue Index (CTI) Sea Surface Temperature (SST),\n",
    "# defined as the mean SST for 6N-6S, 180W-90W in the equatorial Pacific \n",
    "# minus the global-mean SST; the global-mean SST; calculate anomalies; and plot.\n",
    "#\n",
    "# Todd MItchell, February 2022"
   ]
  },
  {
   "cell_type": "code",
   "execution_count": 1,
   "metadata": {},
   "outputs": [],
   "source": [
    "# Import libraries\n",
    "import numpy as np\n",
    "import matplotlib.pyplot as plt\n",
    "plt.interactive(True)\n",
    "# You need the following line, '%matplotlib inline', to display figures in\n",
    "# jupyter notebooks.  You get an error message if you omit it and try to\n",
    "# plot a figure.\n",
    "# %matplotlib  inline \n",
    "\n",
    "import sys\n",
    "sys.path.insert( 0, '/Users/mitchell/Documents/PYTHON/modules/mitchell/' )\n",
    "import tpm  # A module of my functions for calculations and plotting\n",
    "from subprocess import call\n",
    "# call( 'unix command' ) # with quotes, will execute the UNIX command\n",
    "# --- lots of error messages and no answer\n",
    "import os\n",
    "# os.system( 'unix command' ) # with quotes, will execute the UNIX command\n",
    "# It seems that one needs to do more when executing the \"os\" command in a jupyter notebook:\n",
    "# print(os.popen('ls -l *nc').read())  works!\n",
    "# os.popen( 'pwd' ).read()  works!\n",
    "\n",
    "import pandas as pd"
   ]
  },
  {
   "cell_type": "code",
   "execution_count": 2,
   "metadata": {},
   "outputs": [
    {
     "data": {
      "text/plain": [
       "'-rw-r--r--  1 mitchell  staff  346205 Feb 25 16:59 cti1854jan2022.nc\\n'"
      ]
     },
     "execution_count": 2,
     "metadata": {},
     "output_type": "execute_result"
    }
   ],
   "source": [
    "os.popen( 'ls -l cti*.nc' ).read()"
   ]
  },
  {
   "cell_type": "code",
   "execution_count": 2,
   "metadata": {},
   "outputs": [
    {
     "name": "stderr",
     "output_type": "stream",
     "text": [
      "/Users/mitchell/opt/anaconda3/lib/python3.7/site-packages/ipykernel_launcher.py:7: DeprecationWarning: `np.bool` is a deprecated alias for the builtin `bool`. To silence this warning, use `bool` by itself. Doing this will not modify any behavior and is safe. If you specifically wanted the numpy scalar type, use `np.bool_` here.\n",
      "Deprecated in NumPy 1.20; for more details and guidance: https://numpy.org/devdocs/release/1.20.0-notes.html#deprecations\n",
      "  import sys\n"
     ]
    },
    {
     "data": {
      "text/plain": [
       "'The units are degC'"
      ]
     },
     "execution_count": 2,
     "metadata": {},
     "output_type": "execute_result"
    }
   ],
   "source": [
    "# This cell has code you will need to ingest netCDF format files\n",
    "import netCDF4 as nc\n",
    "a = nc.Dataset( 'cti1854jan2022.nc' )\n",
    "varnam = 'sst'\n",
    "fdat  = np.array( a.variables[  varnam ] )\n",
    "fdat[ fdat==a.variables[  varnam ].missing_value  ] = np.nan\n",
    "f\"The units are {a.variables[varnam].units}\"\n"
   ]
  },
  {
   "cell_type": "code",
   "execution_count": 3,
   "metadata": {},
   "outputs": [
    {
     "data": {
      "text/plain": [
       "(2017,)"
      ]
     },
     "execution_count": 3,
     "metadata": {},
     "output_type": "execute_result"
    }
   ],
   "source": [
    "ts = fdat   # I am calling the CTI sst timeseries \"ts\"\n",
    "ts.shape"
   ]
  },
  {
   "cell_type": "code",
   "execution_count": 4,
   "metadata": {},
   "outputs": [],
   "source": [
    "yr1 = 1854\n",
    "yr2 = 2022\n",
    "ts = tpm.fill_year( ts)  # The last year of data ends in January.  Fill last year with NaNs"
   ]
  },
  {
   "cell_type": "code",
   "execution_count": 5,
   "metadata": {},
   "outputs": [
    {
     "data": {
      "text/plain": [
       "2028"
      ]
     },
     "execution_count": 5,
     "metadata": {},
     "output_type": "execute_result"
    }
   ],
   "source": [
    "ts.shape[0]"
   ]
  },
  {
   "cell_type": "code",
   "execution_count": 6,
   "metadata": {},
   "outputs": [
    {
     "data": {
      "text/plain": [
       "array([8.39809418, 8.61637115, 9.125103  , ...,        nan,        nan,\n",
       "              nan])"
      ]
     },
     "execution_count": 6,
     "metadata": {},
     "output_type": "execute_result"
    }
   ],
   "source": [
    "ts"
   ]
  },
  {
   "cell_type": "code",
   "execution_count": 7,
   "metadata": {},
   "outputs": [
    {
     "name": "stdout",
     "output_type": "stream",
     "text": [
      "yr1, yr1clim, yr2clim, skip, nt2\n",
      " 1 1 73 0 876\n"
     ]
    }
   ],
   "source": [
    "ts = tpm.time_shift( ts, yr1, yr2, 1950, yr2 ) # Retain only the years 1950-2022\n",
    "yr1 = 1950\n",
    "tsanom, tsclim = tpm.anomalies( ts ) # Calculate anomalies by calendar month"
   ]
  },
  {
   "cell_type": "code",
   "execution_count": 8,
   "metadata": {},
   "outputs": [
    {
     "data": {
      "text/plain": [
       "array([-1.1902585 , -0.99060411, -0.64579606, -0.70539215, -0.86228744,\n",
       "       -0.6173349 , -0.49276413, -0.36218378, -0.48320911, -0.42206724,\n",
       "       -0.69662126, -0.58472811, -0.41220712, -0.30894632,  0.11624122,\n",
       "        0.32549927,  0.43401535,  0.46460289,  0.8311647 ,  0.6725395 ,\n",
       "        0.75420811,  0.80706827,  0.96715132,  0.71783079,  0.45081664,\n",
       "        0.26683455,  0.23051429,  0.3273761 ,  0.16116532, -0.12546592,\n",
       "       -0.24388183, -0.10550043, -0.04919002, -0.17244681, -0.35479959,\n",
       "       -0.06431185,  0.36170912,  0.46512061,  0.50014663,  0.54921982,\n",
       "        0.59117707,  0.65600724,  0.50315415,  0.46133497,  0.57557919,\n",
       "        0.49894945,  0.4938275 ,  0.67057051,  0.50652266,  0.37789374,\n",
       "        0.06545997, -0.6743882 , -0.49605362, -0.55845504, -0.62978615,\n",
       "       -0.73427698, -0.91505191, -0.90293463, -0.66140207, -0.78253924,\n",
       "       -0.38137483, -0.31051225, -0.47297502, -0.52190902, -0.70280067,\n",
       "       -0.61957222, -0.58091034, -0.69514582, -0.88408038, -1.45688399,\n",
       "       -1.60417016, -1.30380808, -0.76425599, -0.44558496, -0.28581834,\n",
       "       -0.28687599, -0.26077453, -0.27596527, -0.47391189, -0.57906267,\n",
       "       -0.52917049, -0.54501303, -0.6371425 , -0.55798517, -0.28127145,\n",
       "        0.06722289,  0.40892768,  0.57964966,  0.68233498,  0.73382134,\n",
       "        0.93331085,  0.97474172,  0.82859662,  0.87065546,  1.06916205,\n",
       "        1.28309835,  1.41833068,  1.25531607,  0.93658233,  0.72047302,\n",
       "        0.65353211,  0.49371857,  0.34906899,  0.27732733,  0.0371671 ,\n",
       "        0.13048402,  0.31553427,  0.19720091,  0.48128653,  0.37418585,\n",
       "        0.31382918,  0.4143512 ,  0.14047821, -0.003964  , -0.27874245,\n",
       "       -0.25076983, -0.23592136,  0.01505319, -0.11122354, -0.02740465,\n",
       "       -0.00533532, -0.15832681, -0.00412774,  0.03536865, -0.00987999,\n",
       "       -0.1126905 , -0.11798729,  0.02855184,  0.03924039, -0.24312361,\n",
       "       -0.25160631, -0.10984408, -0.07696008,  0.06629973, -0.0751307 ,\n",
       "       -0.00819519,  0.03936585,  0.10443062, -0.32299866, -0.43061373,\n",
       "       -0.62606952, -0.64040526, -0.27577241, -0.2328509 , -0.23087358,\n",
       "       -0.12148828, -0.2408545 , -0.41186455, -0.48657791, -0.3657518 ,\n",
       "       -0.31867088, -0.13855288, -0.3934798 , -0.41424139, -0.4863685 ,\n",
       "       -0.56609141, -0.33682107, -0.20607538,  0.12335944,  0.20937798,\n",
       "        0.04971131,  0.20170731,  0.62755905,  0.70608213,  0.75009015,\n",
       "        0.81926386,  0.81953589,  0.9003488 ,  0.72957183,  0.3602088 ,\n",
       "        0.00473189, -0.43043831, -0.69337646, -0.717835  , -0.46046127,\n",
       "       -0.745105  , -0.67037723, -0.64577254, -0.67226823, -0.81426417,\n",
       "       -0.39494371, -0.07212419,  0.12489676,  0.20561669,  0.68077668,\n",
       "        0.8257708 ,  0.97821938,  1.22983053,  1.24471143,  1.4652981 ,\n",
       "        1.50748412,  1.39429106,  1.23771239,  0.89362937,  0.75599074,\n",
       "        0.43497536, -0.05576889,  0.10358185,  0.23781334,  0.0314472 ,\n",
       "       -0.0755038 , -0.02148016, -0.16112932, -0.33619867, -0.24591302,\n",
       "       -0.15235109, -0.27425599, -0.33683899, -0.0433406 ,  0.06854386,\n",
       "       -0.01061691, -0.29152224, -0.55610416, -0.49833067, -0.32255205,\n",
       "       -0.31566607, -0.41001176, -0.56590814, -0.50796342, -0.24686363,\n",
       "       -0.39986412,  0.18988556,  0.42193543,  0.39016226,  0.33086446,\n",
       "        0.3077778 ,  0.54535643,  0.71886839,  0.84139968,  0.81579047,\n",
       "        0.5706079 ,  0.50330422,  0.67362412,  0.51967186,  0.32594048,\n",
       "        0.49521902,  0.65179684,  0.86540453,  0.78357474,  0.73425115,\n",
       "        0.54617644,  0.35310584,  0.04189277,  0.1169822 , -0.07780449,\n",
       "       -0.3490892 , -0.68899597, -0.87188647, -0.71051547, -0.74503859,\n",
       "       -0.83931955, -0.88639437, -1.1065278 , -0.95421762, -0.73941064,\n",
       "       -0.55556991, -0.53574554, -0.60338836, -0.58206619, -0.71457407,\n",
       "       -0.56551692, -0.74845274, -0.62270387, -0.69217478, -0.33682298,\n",
       "       -0.12482805,  0.06794333,  0.39351151,  0.64257439,  0.79876275,\n",
       "        1.19849907,  1.41954878,  1.31870702,  1.56951372,  1.69298331,\n",
       "        1.80630888,  1.52041579,  0.88856917,  0.34778762, -0.25928619,\n",
       "       -0.55015175, -0.73966461, -0.96354164, -1.02422831, -1.09177158,\n",
       "       -1.20044478, -1.35795625, -1.37365709, -1.34526681, -0.88268442,\n",
       "       -0.61121964, -0.45490768, -0.48607818, -0.43356567, -0.32304634,\n",
       "       -0.14113924, -0.31000278, -0.55849226, -0.59534868, -0.62281977,\n",
       "       -0.22863817, -0.36979265, -0.49590325, -0.30164459, -0.58020584,\n",
       "       -0.84873443, -0.80515732, -0.81331751, -1.05205867, -1.13928755,\n",
       "       -1.05204995, -1.27041231, -1.29850816, -0.72024126, -0.35281396,\n",
       "       -0.2752755 , -0.00523559,  0.35902161,  0.45957314,  0.68078306,\n",
       "        0.73955205,  0.92796365,  0.79563109,  0.47021879,  0.63155127,\n",
       "        0.39056807,  0.2661283 , -0.13946846,  0.03052529,  0.19685883,\n",
       "        0.26115929,  0.11017492,  0.30580571,  0.56873171,  0.53958861,\n",
       "        0.65654577,  0.5418067 ,  0.3072074 , -0.04150987, -0.3574498 ,\n",
       "       -0.39302055, -0.38422065, -0.24188103, -0.41391489, -0.32136104,\n",
       "       -0.15252837, -0.08456834,  0.148039  ,  0.03323699, -0.04511804,\n",
       "        0.10592055,  0.24758217,  0.20170029,  0.0941729 ,  0.00863777,\n",
       "        0.1561096 ,  0.44395688,  0.38477747,  0.40890853,  0.40166487,\n",
       "        0.44181395,  0.18693762,  0.03196502,  0.10541413,  0.19808968,\n",
       "        0.34586663,  0.10703026, -0.02673838,  0.06493428,  0.02047769,\n",
       "        0.12148253,  0.13432897, -0.28812646, -0.42801828, -0.27995133,\n",
       "       -0.27092483, -0.32081215, -0.2876802 , -0.35516228, -0.36492846,\n",
       "       -0.0351958 , -0.02414664, -0.1209472 ,  0.06047262,  0.27735663,\n",
       "        0.12802725,  0.20400405,  0.40435288,  0.65452202,  0.76758141,\n",
       "        0.71879135,  1.00906065,  1.47076848,  1.80212633,  1.86172644,\n",
       "        2.01376356,  1.99714804,  1.60895949,  1.25980163,  1.10629151,\n",
       "        1.24728211,  1.09800095,  0.74467026,  0.52287939,  0.10128644,\n",
       "       -0.31117209, -0.56390794, -0.48763453, -0.40819406, -0.1507451 ,\n",
       "       -0.20561814, -0.24004677, -0.42598335, -0.52273231, -0.27903808,\n",
       "       -0.13884661, -0.17823741, -0.37106665, -0.64265092, -0.83081232,\n",
       "       -0.74608278, -0.60224695, -0.58597589, -0.67363861, -0.62434379,\n",
       "       -0.55347305, -0.53598083, -0.36027453, -0.46244762, -0.33140906,\n",
       "       -0.26161416, -0.30005823, -0.31204843, -0.235748  , -0.07499909,\n",
       "       -0.05452659, -0.22981636, -0.09577423,  0.14855515,  0.4050987 ,\n",
       "        0.54439786,  0.6674389 ,  0.89927451,  0.96554006,  0.95539046,\n",
       "        1.02166205,  0.93120742,  0.72354576,  0.84059914,  0.95286126,\n",
       "        1.15006004,  1.26676252,  1.41355374,  1.17118112,  1.00144545,\n",
       "        0.98323263,  0.70571662,  0.18367415,  0.0370748 , -0.32137802,\n",
       "       -0.81416122, -1.26485115, -1.28553451, -0.92068789, -0.75495288,\n",
       "       -1.30130919, -1.31222947, -1.28020655, -1.25732469, -0.95376367,\n",
       "       -0.84181046, -0.64041069, -0.52076141, -0.28687149, -0.38365044,\n",
       "       -0.34777758, -0.23521373, -0.21667822, -0.30098947, -0.12931238,\n",
       "       -0.0049653 ,  0.17052107, -0.01897454,  0.06046936,  0.16629608,\n",
       "        0.0729403 ,  0.09522759,  0.23546484,  0.25671056,  0.15425913,\n",
       "        0.13040702,  0.2670442 ,  0.3601451 ,  0.2472518 ,  0.1373117 ,\n",
       "        0.19096062,  0.43827256,  0.672687  ,  0.79597984,  0.65366247,\n",
       "        0.54047826,  0.88434068,  1.06466643,  1.27203001,  1.30395652,\n",
       "        1.23887091,  1.04937911,  1.0810096 ,  1.06989106,  0.67825074,\n",
       "        0.39637695,  0.3486202 ,  0.27493718,  0.09875719,  0.0801789 ,\n",
       "        0.13512625,  0.29635001,  0.5019763 ,  0.49049163,  0.72529289,\n",
       "        0.89950379,  0.55419487,  0.47684036,  0.43146971,  0.49394467,\n",
       "        0.38827364,  0.31413428,  0.37229742,  0.35591269,  0.13659125,\n",
       "        0.06364608,  0.10292694,  0.276764  ,  0.30060906,  0.24294792,\n",
       "        0.33640173,  0.42680028,  0.78759424,  0.99019591,  0.98439421,\n",
       "        0.85126448,  0.58816367,  0.34721351,  0.14007447, -0.02021591,\n",
       "       -0.02412086, -0.09495796, -0.44468996, -0.5327811 , -0.53508528,\n",
       "       -0.67406114, -0.61703859, -0.53316926, -0.52609987, -0.30714631,\n",
       "       -0.41803863, -0.34420196, -0.36220222, -0.24573387, -0.1690552 ,\n",
       "       -0.2392554 , -0.21956786, -0.25486024, -0.54180704, -0.39706468,\n",
       "       -0.30546731, -0.05864358,  0.30981323,  0.74734124,  1.08494515,\n",
       "        1.51590859,  1.83258322,  1.99150708,  2.11954919,  2.20728461,\n",
       "        2.12533964,  2.08333159,  1.72255736,  1.25773215,  0.97351906,\n",
       "        0.85233506,  0.15288109, -0.34259666, -0.58842585, -0.65918681,\n",
       "       -0.8241268 , -0.84394296, -1.03629862, -1.10634088, -0.92337007,\n",
       "       -0.64393258, -0.75867203, -0.61467735, -0.66187339, -0.61962379,\n",
       "       -0.66837618, -0.7790179 , -0.88116415, -1.08200868, -1.22577273,\n",
       "       -1.27750825, -1.06101579, -0.6613028 , -0.38253906, -0.39859573,\n",
       "       -0.42319923, -0.40162529, -0.368808  , -0.30643985, -0.41315039,\n",
       "       -0.54643281, -0.60596262, -0.46084451, -0.39861268, -0.23900437,\n",
       "       -0.22783973, -0.14284507, -0.17307525, -0.06446899, -0.06877062,\n",
       "       -0.24668834, -0.21104201, -0.38327249, -0.36793696, -0.1909337 ,\n",
       "       -0.07713289,  0.06256843,  0.11124489,  0.33666809,  0.55708451,\n",
       "        0.49178825,  0.59480169,  0.77722028,  0.91799204,  1.13933531,\n",
       "        1.01837553,  0.56907607,  0.45926695,  0.26893592, -0.10488251,\n",
       "       -0.4970626 , -0.27146011,  0.09667908,  0.14401701,  0.08220914,\n",
       "        0.29806368,  0.42530028,  0.47444738,  0.31453658,  0.16206008,\n",
       "        0.03637481, -0.01424148, -0.12800399, -0.02438026,  0.14707123,\n",
       "        0.29888799,  0.47037556,  0.54083101,  0.59232108,  0.68248953,\n",
       "        0.46701766,  0.13247519,  0.16061568,  0.13845703,  0.20276078,\n",
       "        0.07651085, -0.07612671, -0.02835772, -0.11461971, -0.19192847,\n",
       "       -0.67714341, -0.80189119, -0.67557954, -0.44211358, -0.45846963,\n",
       "       -0.28113296, -0.04066459,  0.00440926,  0.04992043,  0.30573919,\n",
       "        0.63205388,  0.76807443,  0.89221732,  0.94608129,  0.65169478,\n",
       "        0.14140158, -0.09785295, -0.21640137, -0.40420334, -0.39966255,\n",
       "       -0.53311027, -0.66845057, -0.89817569, -1.04050215, -1.17048677,\n",
       "       -1.19065844, -1.23580026, -1.14590616, -0.79154038, -0.52790382,\n",
       "       -0.38405792, -0.35468345, -0.08462204,  0.07282141, -0.04850528,\n",
       "       -0.09253653, -0.25102647, -0.61372744, -0.58069848, -0.5674035 ,\n",
       "       -0.56359315, -0.11605575,  0.1850644 ,  0.31357331,  0.42763649,\n",
       "        0.50978925,  0.59627583,  0.74733583,  1.00759093,  1.12477888,\n",
       "        0.9467845 ,  0.71114951,  0.4889276 ,  0.28277275, -0.10104934,\n",
       "       -0.57597595, -0.91119064, -1.1663563 , -1.31131122, -1.38713225,\n",
       "       -1.36765893, -1.3441485 , -1.20563173, -0.84240312, -0.69217134,\n",
       "       -0.42023399, -0.33449546, -0.263022  , -0.2815844 , -0.4533169 ,\n",
       "       -0.57817409, -0.85310706, -0.89090761, -0.79557406, -0.59928178,\n",
       "       -0.37480897, -0.28651643, -0.11137703, -0.06315986,  0.16494507,\n",
       "        0.24444901,  0.27017858,  0.17404607,  0.06294481,  0.06154219,\n",
       "       -0.28600298, -0.43217897, -0.41459627, -0.21935105, -0.23431709,\n",
       "       -0.48443596, -0.5536409 , -0.55444969, -0.55714533, -0.3453593 ,\n",
       "       -0.21960982, -0.19602044, -0.16332804, -0.37683725, -0.51325387,\n",
       "       -0.17793298,  0.05308602,  0.26958092,  0.24078125,  0.06741272,\n",
       "       -0.00568316,  0.10557797,  0.33185426,  0.57514731,  0.50976957,\n",
       "        0.33405257,  0.17912703,  0.18401313,  0.51096031,  0.69304283,\n",
       "        0.96519417,  1.2112249 ,  1.39844015,  1.62205174,  1.73804323,\n",
       "        1.97484938,  1.92639746,  1.6996398 ,  1.36228018,  1.02540755,\n",
       "        0.50812218,  0.11805924, -0.09166771, -0.50549187, -0.6046612 ,\n",
       "       -0.54044482, -0.71991309, -0.63646539, -0.49686991, -0.33434152,\n",
       "       -0.07577486, -0.03818917,  0.11413452,  0.10575684, -0.01314598,\n",
       "       -0.09288467, -0.37606737, -0.62205837, -0.65939291, -0.91794809,\n",
       "       -1.02283465, -0.98419809, -0.80858011, -0.77964044, -0.51659897,\n",
       "       -0.29126922, -0.08563095, -0.00536026, -0.08423159,  0.15733578,\n",
       "        0.47227899,  0.55657164,  0.54833998,  0.37840415,  0.36961966,\n",
       "        0.41555762,  0.37417481,  0.36657341,  0.14116616, -0.03251518,\n",
       "       -0.23847315, -0.21840236,  0.06870691,  0.17491309,  0.16123213,\n",
       "        0.12659789,  0.01593428,  0.06158614,  0.09303734, -0.31226532,\n",
       "       -0.52885299, -0.57371582, -0.75312159, -1.00629947, -1.119783  ,\n",
       "       -1.15782197, -0.96236979, -0.83515214, -0.87459535, -0.72437882,\n",
       "       -0.67542007, -0.5133361 , -0.38136726, -0.4697615 , -0.55549357,\n",
       "       -0.63458965, -0.8402973 , -0.96992334, -1.16332232, -1.1284337 ,\n",
       "               nan,         nan,         nan,         nan,         nan,\n",
       "               nan,         nan,         nan,         nan,         nan,\n",
       "               nan])"
      ]
     },
     "execution_count": 8,
     "metadata": {},
     "output_type": "execute_result"
    }
   ],
   "source": [
    "tsanom"
   ]
  },
  {
   "cell_type": "code",
   "execution_count": 9,
   "metadata": {},
   "outputs": [
    {
     "name": "stdout",
     "output_type": "stream",
     "text": [
      "(-43.64, 907.64)\n"
     ]
    },
    {
     "data": {
      "image/png": "[encoded data removed]",
      "text/plain": [
       "<Figure size 432x288 with 1 Axes>"
      ]
     },
     "metadata": {
      "needs_background": "light"
     },
     "output_type": "display_data"
    }
   ],
   "source": [
    "# Make a plot of the CTI anomalies\n",
    "nt = tsanom.shape[0]\n",
    "plt.clf()\n",
    "plt.bar( np.arange(nt), tsanom )\n",
    "print( plt.gca().get_xlim() )\n",
    "plt.gca().set_ylim( ( -2.5, 2.5 ))\n",
    "plt.savefig( 'cti19502022.png', dpi=300 )\n",
    "plt.show()\n"
   ]
  },
  {
   "cell_type": "code",
   "execution_count": 10,
   "metadata": {},
   "outputs": [],
   "source": [
    "# Apply a 9-point running mean\n",
    "df = pd.DataFrame( tsanom, columns=['anom'] )\n",
    "df[ 'anomsm' ] = df.iloc[:,0].rolling( 9, center=True ).mean()\n",
    "tsanomsm = df[ 'anomsm' ].to_numpy() "
   ]
  },
  {
   "cell_type": "code",
   "execution_count": 11,
   "metadata": {},
   "outputs": [
    {
     "data": {
      "text/plain": [
       "1.8728659366283162"
      ]
     },
     "execution_count": 11,
     "metadata": {},
     "output_type": "execute_result"
    }
   ],
   "source": [
    "# A 9-point running mean shortens the series by 4 time points.\n",
    "tsanomsm # Ends October 2021\n",
    "tsanom   # Ends Jamuary 2022\n",
    "np.nanmax( abs(tsanomsm) )"
   ]
  },
  {
   "cell_type": "code",
   "execution_count": 12,
   "metadata": {
    "scrolled": true
   },
   "outputs": [
    {
     "data": {
      "text/plain": [
       "<Figure size 432x288 with 0 Axes>"
      ]
     },
     "metadata": {},
     "output_type": "display_data"
    },
    {
     "data": {
      "image/png": "[encoded data removed]",
      "text/plain": [
       "<Figure size 432x288 with 1 Axes>"
      ]
     },
     "metadata": {
      "needs_background": "light"
     },
     "output_type": "display_data"
    }
   ],
   "source": [
    "# Plot the smoothed CTI series\n",
    "font = {'family': 'times' }\n",
    "plt.clf()\n",
    "fig, ax = plt.subplots()\n",
    "plt.bar( np.arange(nt), tsanomsm, zorder=10 )\n",
    "plt.gca().set_ylim( ( -2.1, 2.1 ))\n",
    "plt.gca().set_xlim( ( -24, nt+48 ))\n",
    "xtick_values = np.arange( 0, nt+60, step=60 ) \n",
    "plt.xticks( xtick_values, ('1950', ' 55 ', ' 60 ', ' 65 ', \\\n",
    "  ' 70 ', ' 75 ', ' 80 ', ' 85 ', ' 90 ', ' 95 ', '2000', ' 05 ', \\\n",
    "  ' 10 ', ' 15 ', '2020', ' 25 ' ), fontdict=font )\n",
    "plt.yticks( np.arange(-2,3,1), ( '-2', '-1', ' 0', ' 1', ' 2' ), fontdict=font )\n",
    "tpm.plot_vertical_lines( xtick_values,( -2, 2 ), zorder=5 )\n",
    "plt.title( r'Cold Tongue Index SST anomalies ($^\\circ$C) 1950-Jan.2022' \n",
    "          '\\n' \n",
    "          r'Anomalies wrt 1950-2022; 7-point low pass filter; ERSST v5', \\\n",
    "          fontdict=font )\n",
    "ax.set_aspect(75) \n",
    "plt.ylabel( 'Anomalies ($^\\circ$C)', fontdict=font )\n",
    "# plt.savefig( 'cti19502022sm.png', dpi=750 )\n",
    "plt.show()"
   ]
  },
  {
   "cell_type": "code",
   "execution_count": 13,
   "metadata": {},
   "outputs": [
    {
     "name": "stdout",
     "output_type": "stream",
     "text": [
      "yr1, yr1clim, yr2clim, skip, nt2\n",
      " 1 1 73 0 876\n"
     ]
    },
    {
     "name": "stderr",
     "output_type": "stream",
     "text": [
      "/Users/mitchell/opt/anaconda3/lib/python3.7/site-packages/ipykernel_launcher.py:3: DeprecationWarning: `np.bool` is a deprecated alias for the builtin `bool`. To silence this warning, use `bool` by itself. Doing this will not modify any behavior and is safe. If you specifically wanted the numpy scalar type, use `np.bool_` here.\n",
      "Deprecated in NumPy 1.20; for more details and guidance: https://numpy.org/devdocs/release/1.20.0-notes.html#deprecations\n",
      "  This is separate from the ipykernel package so we can avoid doing imports until\n"
     ]
    }
   ],
   "source": [
    "# Ingest the global-mean SST, calculate anomalies, and smooth with a 5-year running mean\n",
    "b = nc.Dataset( 'b.nc' )\n",
    "varnam = 'sst'\n",
    "fdatb  = np.array( b.variables[ varnam ] )\n",
    "fdatb[ fdatb==b.variables[  varnam ]._FillValue  ] = np.nan\n",
    "tsb = fdatb\n",
    "tsb = tpm.fill_year( tsb )  # Fill last year with NaNs\n",
    "tsb = tpm.time_shift( tsb, 1854, yr2, 1950, yr2 ) # Retain only the years 1950-2022\n",
    "tsbanom, tsbclim = tpm.anomalies( tsb ) # Calculate anomalies by calendar month\n",
    "dfb = pd.DataFrame( tsbanom, columns=['anom'] )\n",
    "dfb[ 'anomsm' ] = dfb.iloc[:,0].rolling( 121, center=True ).mean()\n",
    "tsbanomsm = dfb[ 'anomsm' ].to_numpy() "
   ]
  },
  {
   "cell_type": "code",
   "execution_count": 18,
   "metadata": {},
   "outputs": [
    {
     "data": {
      "text/plain": [
       "<Figure size 432x288 with 0 Axes>"
      ]
     },
     "metadata": {},
     "output_type": "display_data"
    },
    {
     "data": {
      "image/png": "[encoded data removed]",
      "text/plain": [
       "<Figure size 432x288 with 1 Axes>"
      ]
     },
     "metadata": {
      "needs_background": "light"
     },
     "output_type": "display_data"
    }
   ],
   "source": [
    "# Plot smoothed CTI and global-mean SST anomalies\n",
    "plt.clf()\n",
    "fig, ax = plt.subplots()\n",
    "plt.bar( np.arange(nt), tsanomsm, zorder=15 )\n",
    "plt.plot( np.arange(nt), tsbanomsm, zorder=10, color='red' )\n",
    "plt.gca().set_ylim( ( -2.1, 2.1 ))\n",
    "plt.gca().set_xlim( ( -24, nt+48 ))\n",
    "xtick_values = np.arange( 0, nt+60, step=60 ) \n",
    "plt.xticks( xtick_values, ('1950', ' 55 ', ' 60 ', ' 65 ', \\\n",
    "  ' 70 ', ' 75 ', ' 80 ', ' 85 ', ' 90 ', ' 95 ', '2000', ' 05 ', \\\n",
    "  ' 10 ', ' 15 ', '2020', ' 25 ' ), fontdict=font )\n",
    "plt.yticks( np.arange(-2,3,1), ( '-2', '-1', ' 0', ' 1', ' 2' ), fontdict=font )\n",
    "tpm.plot_vertical_lines( xtick_values,( -2, 2 ), zorder=5 )\n",
    "plt.title( r'Cold Tongue Index and global-mean SST anomalies ($^\\circ$C) 1950-Jan.2022' \n",
    "          '\\n' \n",
    "          r'Anomalies wrt 1950-2022; ERSST v5 data', \\\n",
    "          fontdict=font )\n",
    "ax.set_aspect(75) \n",
    "plt.ylabel( 'Anomalies ($^\\circ$C)', fontdict=font )\n",
    "# plt.savefig( 'ctiwgm19502022sm.png', dpi=750 )\n",
    "plt.show()"
   ]
  },
  {
   "cell_type": "code",
   "execution_count": 40,
   "metadata": {},
   "outputs": [
    {
     "name": "stdout",
     "output_type": "stream",
     "text": [
      "[  0  60 120 180 240 300]\n"
     ]
    },
    {
     "data": {
      "text/plain": [
       "<Figure size 432x288 with 0 Axes>"
      ]
     },
     "metadata": {},
     "output_type": "display_data"
    },
    {
     "data": {
      "image/png": "[encoded data removed]",
      "text/plain": [
       "<Figure size 432x288 with 1 Axes>"
      ]
     },
     "metadata": {
      "needs_background": "light"
     },
     "output_type": "display_data"
    }
   ],
   "source": [
    "# Plot recent CTI\n",
    "print( f\"Standard deviation for 1950-22: {np.nanstd(tsanom)}\" )\n",
    "plt.clf()\n",
    "fig, ax = plt.subplots()\n",
    "plt.bar( np.arange(23*12), tpm.time_shift(tsanom,yr1,yr2,2000,yr2), zorder=15 )\n",
    "plt.gca().set_ylim( ( -2.3, 2.3 ))\n",
    "plt.gca().set_xlim( ( -12, 24*12 ))\n",
    "xtick_values = np.arange( 0, 26*12+12, step=60 ) \n",
    "print(xtick_values)\n",
    "plt.xticks( np.arange(0,300,60), ('2000', ' 05 ', ' 10 ', ' 15 ', \\\n",
    "   '2020' ), fontdict=font )\n",
    "plt.yticks( np.arange(-2,3,1), ( '-2', '-1', ' 0', ' 1', ' 2' ), fontdict=font )\n",
    "\n",
    "tpm.plot_vertical_lines( np.arange( 0,24*12, 12 ),( -2, 2 ), zorder=5 )\n",
    "plt.title( r'Cold Tongue Index SST anomalies ($^\\circ$C) 1950-Jan.2022' \n",
    "          '\\n' \n",
    "          r'Anomalies wrt 1950-2022; std.dev. 0.7$^\\circ$C; ERSST v5 data', \\\n",
    "          fontdict=font )\n",
    "ax.set_aspect(15) \n",
    "plt.ylabel( 'Anomalies ($^\\circ$C)', fontdict=font )\n",
    "plt.savefig( 'cti20002022sm.png', dpi=750 )\n",
    "plt.show()"
   ]
  },
  {
   "cell_type": "code",
   "execution_count": 43,
   "metadata": {},
   "outputs": [
    {
     "name": "stdout",
     "output_type": "stream",
     "text": [
      "Help on function write_ts in module tpm:\n",
      "\n",
      "write_ts(ts, yr1, yr2, yrfst=None)\n",
      "    write_ts( ts, yr1, yr2 ) writes a monthly timeseries in table form to stdio.\n",
      "    \n",
      "    This is the beginning of converting write_ts.m to python.\n",
      "    \n",
      "     Todd Mitchell, February 2019\n",
      "\n"
     ]
    }
   ],
   "source": [
    "help(tpm.write_ts)"
   ]
  },
  {
   "cell_type": "code",
   "execution_count": 50,
   "metadata": {},
   "outputs": [
    {
     "name": "stdout",
     "output_type": "stream",
     "text": [
      "def write_ts( ts, yr1, yr2, yrfst=None ):\n",
      "    '''write_ts( ts, yr1, yr2 ) writes a monthly timeseries in table form to stdio.\n",
      "\n",
      "    This is the beginning of converting write_ts.m to python.\n",
      "\n",
      "     Todd Mitchell, February 2019 '''\n",
      "\n",
      "    import numpy as np\n",
      "    import sys\n",
      "    \n",
      "    if yrfst is None:\n",
      "        yrfst = yr1\n",
      "\n",
      "    nyr = yr2 - yr1 + 1\n",
      "    \n",
      "    print( 'ts.shape yields', ts.shape )\n",
      "\n",
      "    a = np.reshape( np.round( ts*10 ), ( nyr, 12 ) )\n",
      "    a[ np.isnan(a) ] = -999\n",
      "    b = np.arange( yr1, yr2+1 )\n",
      "    b = np.expand_dims( b, axis=1 )\n",
      "    b = np.concatenate( ( b, a ), axis=1 ).astype(int)\n",
      "    np.savetxt( sys.stdout, b, fmt='%5d%5d%5d%5d%5d%5d%5d%5d%5d%5d%5d%5d%5d' )\n",
      "\n"
     ]
    }
   ],
   "source": [
    "import inspect\n",
    "lines = inspect.getsource( tpm.write_ts )\n",
    "print( lines )"
   ]
  },
  {
   "cell_type": "code",
   "execution_count": 51,
   "metadata": {},
   "outputs": [
    {
     "name": "stdout",
     "output_type": "stream",
     "text": [
      "ts.shape yields (876,)\n",
      " 1950 -119  -99  -65  -71  -86  -62  -49  -36  -48  -42  -70  -58\n",
      " 1951  -41  -31   12   33   43   46   83   67   75   81   97   72\n",
      " 1952   45   27   23   33   16  -13  -24  -11   -5  -17  -35   -6\n",
      " 1953   36   47   50   55   59   66   50   46   58   50   49   67\n",
      " 1954   51   38    7  -67  -50  -56  -63  -73  -92  -90  -66  -78\n",
      " 1955  -38  -31  -47  -52  -70  -62  -58  -70  -88 -146 -160 -130\n",
      " 1956  -76  -45  -29  -29  -26  -28  -47  -58  -53  -55  -64  -56\n",
      " 1957  -28    7   41   58   68   73   93   97   83   87  107  128\n",
      " 1958  142  126   94   72   65   49   35   28    4   13   32   20\n",
      " 1959   48   37   31   41   14    0  -28  -25  -24    2  -11   -3\n",
      " 1960   -1  -16    0    4   -1  -11  -12    3    4  -24  -25  -11\n",
      " 1961   -8    7   -8   -1    4   10  -32  -43  -63  -64  -28  -23\n",
      " 1962  -23  -12  -24  -41  -49  -37  -32  -14  -39  -41  -49  -57\n",
      " 1963  -34  -21   12   21    5   20   63   71   75   82   82   90\n",
      " 1964   73   36    0  -43  -69  -72  -46  -75  -67  -65  -67  -81\n",
      " 1965  -39   -7   12   21   68   83   98  123  124  147  151  139\n",
      " 1966  124   89   76   43   -6   10   24    3   -8   -2  -16  -34\n",
      " 1967  -25  -15  -27  -34   -4    7   -1  -29  -56  -50  -32  -32\n",
      " 1968  -41  -57  -51  -25  -40   19   42   39   33   31   55   72\n",
      " 1969   84   82   57   50   67   52   33   50   65   87   78   73\n",
      " 1970   55   35    4   12   -8  -35  -69  -87  -71  -75  -84  -89\n",
      " 1971 -111  -95  -74  -56  -54  -60  -58  -71  -57  -75  -62  -69\n",
      " 1972  -34  -12    7   39   64   80  120  142  132  157  169  181\n",
      " 1973  152   89   35  -26  -55  -74  -96 -102 -109 -120 -136 -137\n",
      " 1974 -135  -88  -61  -45  -49  -43  -32  -14  -31  -56  -60  -62\n",
      " 1975  -23  -37  -50  -30  -58  -85  -81  -81 -105 -114 -105 -127\n",
      " 1976 -130  -72  -35  -28   -1   36   46   68   74   93   80   47\n",
      " 1977   63   39   27  -14    3   20   26   11   31   57   54   66\n",
      " 1978   54   31   -4  -36  -39  -38  -24  -41  -32  -15   -8   15\n",
      " 1979    3   -5   11   25   20    9    1   16   44   38   41   40\n",
      " 1980   44   19    3   11   20   35   11   -3    6    2   12   13\n",
      " 1981  -29  -43  -28  -27  -32  -29  -36  -36   -4   -2  -12    6\n",
      " 1982   28   13   20   40   65   77   72  101  147  180  186  201\n",
      " 1983  200  161  126  111  125  110   74   52   10  -31  -56  -49\n",
      " 1984  -41  -15  -21  -24  -43  -52  -28  -14  -18  -37  -64  -83\n",
      " 1985  -75  -60  -59  -67  -62  -55  -54  -36  -46  -33  -26  -30\n",
      " 1986  -31  -24   -7   -5  -23  -10   15   41   54   67   90   97\n",
      " 1987   96  102   93   72   84   95  115  127  141  117  100   98\n",
      " 1988   71   18    4  -32  -81 -126 -129  -92  -75 -130 -131 -128\n",
      " 1989 -126  -95  -84  -64  -52  -29  -38  -35  -24  -22  -30  -13\n",
      " 1990    0   17   -2    6   17    7   10   24   26   15   13   27\n",
      " 1991   36   25   14   19   44   67   80   65   54   88  106  127\n",
      " 1992  130  124  105  108  107   68   40   35   27   10    8   14\n",
      " 1993   30   50   49   73   90   55   48   43   49   39   31   37\n",
      " 1994   36   14    6   10   28   30   24   34   43   79   99   98\n",
      " 1995   85   59   35   14   -2   -2   -9  -44  -53  -54  -67  -62\n",
      " 1996  -53  -53  -31  -42  -34  -36  -25  -17  -24  -22  -25  -54\n",
      " 1997  -40  -31   -6   31   75  108  152  183  199  212  221  213\n",
      " 1998  208  172  126   97   85   15  -34  -59  -66  -82  -84 -104\n",
      " 1999 -111  -92  -64  -76  -61  -66  -62  -67  -78  -88 -108 -123\n",
      " 2000 -128 -106  -66  -38  -40  -42  -40  -37  -31  -41  -55  -61\n",
      " 2001  -46  -40  -24  -23  -14  -17   -6   -7  -25  -21  -38  -37\n",
      " 2002  -19   -8    6   11   34   56   49   59   78   92  114  102\n",
      " 2003   57   46   27  -10  -50  -27   10   14    8   30   43   47\n",
      " 2004   31   16    4   -1  -13   -2   15   30   47   54   59   68\n",
      " 2005   47   13   16   14   20    8   -8   -3  -11  -19  -68  -80\n",
      " 2006  -68  -44  -46  -28   -4    0    5   31   63   77   89   95\n",
      " 2007   65   14  -10  -22  -40  -40  -53  -67  -90 -104 -117 -119\n",
      " 2008 -124 -115  -79  -53  -38  -35   -8    7   -5   -9  -25  -61\n",
      " 2009  -58  -57  -56  -12   19   31   43   51   60   75  101  112\n",
      " 2010   95   71   49   28  -10  -58  -91 -117 -131 -139 -137 -134\n",
      " 2011 -121  -84  -69  -42  -33  -26  -28  -45  -58  -85  -89  -80\n",
      " 2012  -60  -37  -29  -11   -6   16   24   27   17    6    6  -29\n",
      " 2013  -43  -41  -22  -23  -48  -55  -55  -56  -35  -22  -20  -16\n",
      " 2014  -38  -51  -18    5   27   24    7   -1   11   33   58   51\n",
      " 2015   33   18   18   51   69   97  121  140  162  174  197  193\n",
      " 2016  170  136  103   51   12   -9  -51  -60  -54  -72  -64  -50\n",
      " 2017  -33   -8   -4   11   11   -1   -9  -38  -62  -66  -92 -102\n",
      " 2018  -98  -81  -78  -52  -29   -9   -1   -8   16   47   56   55\n",
      " 2019   38   37   42   37   37   14   -3  -24  -22    7   17   16\n",
      " 2020   13    2    6    9  -31  -53  -57  -75 -101 -112 -116  -96\n",
      " 2021  -84  -87  -72  -68  -51  -38  -47  -56  -63  -84  -97 -116\n",
      " 2022 -113 -999 -999 -999 -999 -999 -999 -999 -999 -999 -999 -999\n"
     ]
    }
   ],
   "source": [
    "tpm.write_ts( tsanom*10, 1950, 2022 )  # write monthly time series out one-year-per-line"
   ]
  },
  {
   "cell_type": "code",
   "execution_count": 54,
   "metadata": {},
   "outputs": [
    {
     "data": {
      "text/plain": [
       "array([-0.67542007, -0.5133361 , -0.38136726, -0.4697615 , -0.55549357,\n",
       "       -0.63458965, -0.8402973 , -0.96992334, -1.16332232, -1.1284337 ])"
      ]
     },
     "execution_count": 54,
     "metadata": {},
     "output_type": "execute_result"
    }
   ],
   "source": [
    "x = np.where( np.isnan(tsanom)==False )[0]\n",
    "tsanom[x[-10:]]"
   ]
  },
  {
   "cell_type": "code",
   "execution_count": 57,
   "metadata": {},
   "outputs": [
    {
     "data": {
      "text/plain": [
       "array([[1.       , 0.1844335],\n",
       "       [0.1844335, 1.       ]])"
      ]
     },
     "execution_count": 57,
     "metadata": {},
     "output_type": "execute_result"
    }
   ],
   "source": [
    "np.corrcoef( tsanom[x], tsbanom[x])\n",
    "# The CTI and global-mean SST monthly, unfiltered timeseries are correlated at 0.18 ."
   ]
  },
  {
   "cell_type": "code",
   "execution_count": null,
   "metadata": {},
   "outputs": [],
   "source": []
  }
 ],
 "metadata": {
  "kernelspec": {
   "display_name": "Python 3 (ipykernel)",
   "language": "python",
   "name": "python3"
  },
  "language_info": {
   "codemirror_mode": {
    "name": "ipython",
    "version": 3
   },
   "file_extension": ".py",
   "mimetype": "text/x-python",
   "name": "python",
   "nbconvert_exporter": "python",
   "pygments_lexer": "ipython3",
   "version": "3.7.6"
  }
 },
 "nbformat": 4,
 "nbformat_minor": 4
}
